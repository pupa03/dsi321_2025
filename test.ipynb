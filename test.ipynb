{
 "cells": [
  {
   "cell_type": "markdown",
   "metadata": {},
   "source": [
    "### Read Thai City"
   ]
  },
  {
   "cell_type": "code",
   "execution_count": null,
   "metadata": {},
   "outputs": [
    {
     "data": {
      "text/plain": [
       "[{'id': 1116760,\n",
       "  'name': 'Don Sak',\n",
       "  'state': '',\n",
       "  'country': 'TH',\n",
       "  'coord': {'lon': 99.691841, 'lat': 9.31676}}]"
      ]
     },
     "execution_count": 12,
     "metadata": {},
     "output_type": "execute_result"
    }
   ],
   "source": [
    "#select ชื่อเมืองในไทย\n",
    "import json\n",
    "\n",
    "with open('city.list.json', 'r') as f:\n",
    "    d_test = json.load(f)\n",
    "\n",
    "th_cities = [city for city in d_test if city['country'] == 'TH']\n",
    "th_cities[:5]\n",
    "\n",
    "#count = len(th_cities)\n",
    "#count"
   ]
  },
  {
   "cell_type": "code",
   "execution_count": 10,
   "metadata": {},
   "outputs": [
    {
     "data": {
      "text/plain": [
       "{'Don Sak': {'lat': 9.31676, 'lon': 99.691841},\n",
       " 'Ban Thung That': {'lat': 8.26667, 'lon': 99.583328},\n",
       " 'Thung Sai': {'lat': 16.31489, 'lon': 99.832672},\n",
       " 'Tham Phannara': {'lat': 8.42044, 'lon': 99.395172},\n",
       " 'Ban Talat Yai': {'lat': 7.88481, 'lon': 98.400078}}"
      ]
     },
     "execution_count": 10,
     "metadata": {},
     "output_type": "execute_result"
    }
   ],
   "source": [
    "provinces = {\n",
    "    city['name']: {\n",
    "        'lat': city['coord']['lat'],\n",
    "        'lon': city['coord']['lon']\n",
    "    } for city in th_cities\n",
    "}\n",
    "# provinces\n",
    "dict(list(provinces.items())[:5])"
   ]
  },
  {
   "cell_type": "markdown",
   "metadata": {},
   "source": [
    "### Fetch weather Data"
   ]
  },
  {
   "cell_type": "code",
   "execution_count": null,
   "metadata": {},
   "outputs": [
    {
     "name": "stdout",
     "output_type": "stream",
     "text": [
      "14.01346 100.530487\n"
     ]
    }
   ],
   "source": [
    "# Test Find Lat Lon\n",
    "province = \"Pathum Thani\"\n",
    "print(\n",
    "    provinces[province]['lat'],\n",
    "    provinces[province]['lon']\n",
    ")"
   ]
  },
  {
   "cell_type": "code",
   "execution_count": null,
   "metadata": {},
   "outputs": [],
   "source": [
    "#Endpoint API\n",
    "WEATHER_ENDPOINT = \"https://api.openweathermap.org/data/2.5/weather\"\n",
    "API_KEY = \"68c16da5e675ad8635df84629765b118\""
   ]
  },
  {
   "cell_type": "code",
   "execution_count": null,
   "metadata": {},
   "outputs": [],
   "source": [
    "import requests\n",
    "import pandas as pd\n",
    "from datetime import datetime\n",
    "import time\n",
    "import pytz\n",
    "\n",
    "# # Endpoint API\n",
    "# WEATHER_ENDPOINT = \"https://api.openweathermap.org/data/2.5/weather\"\n",
    "# API_KEY = \"68c16da5e675ad8635df84629765b118\"\n",
    "\n",
    "\n",
    "# Function to fetch and process weather data\n",
    "\n",
    "def get_weather_data(province='Pathum Thani'):\n",
    "    #Sleep\n",
    "    # time.sleep(2)\n",
    "    #ENDPOINT API Parameters\n",
    "    WEATHER_ENDPOINT = \"https://api.openweathermap.org/data/2.5/weather\"\n",
    "    API_KEY = \"68c16da5e675ad8635df84629765b118\"\n",
    "    params = {\n",
    "        \"lat\": provinces[province]['lat'],\n",
    "        \"lon\": provinces[province]['lon'],\n",
    "        \"appid\": API_KEY,\n",
    "        \"units\": \"metric\"\n",
    "    }\n",
    "\n",
    "    try:\n",
    "        # Make API request\n",
    "        response = requests.get(WEATHER_ENDPOINT, params=params)\n",
    "        response.raise_for_status()  # Raise an exception for bad status codes\n",
    "        data = response.json()\n",
    "        # return data # Fetch Weather Data\n",
    "        \n",
    "        # Convert timestamp to datetime\n",
    "        dt = datetime.now()\n",
    "        thai_tz = pytz.timezone('Asia/Bangkok')\n",
    "        created_at = dt.replace(tzinfo=thai_tz)\n",
    "        \n",
    "        timestamp = datetime.now()\n",
    "        \n",
    "        # Create dictionary with required fields\n",
    "        weather_dict = {\n",
    "            'timestamp': timestamp,\n",
    "            'year': timestamp.year,\n",
    "            'month': timestamp.month,\n",
    "            'day': timestamp.day,\n",
    "            'hour': timestamp.hour,\n",
    "            'minute': timestamp.minute,\n",
    "            'created_at': created_at,\n",
    "            'requested_province' : province,\n",
    "            'location': data['name'],\n",
    "            'weather_main': data['weather'][0]['main'],\n",
    "            'weather_description': data['weather'][0]['description'],\n",
    "            'main.temp': data['main']['temp']\n",
    "        }\n",
    "        \n",
    "        # Create DataFrame\n",
    "        # df = pd.DataFrame([weather_dict])\n",
    "        \n",
    "        # return df\n",
    "        return weather_dict\n",
    "    \n",
    "    except requests.exceptions.RequestException as e:\n",
    "        print(f\"Error fetching data: {e}\")\n",
    "        return None\n",
    "    except KeyError as e:\n",
    "        print(f\"Error processing data: Missing key {e}\")\n",
    "        return None\n",
    "    "
   ]
  },
  {
   "cell_type": "code",
   "execution_count": 15,
   "metadata": {},
   "outputs": [
    {
     "data": {
      "text/plain": [
       "{'timestamp': datetime.datetime(2025, 4, 26, 2, 8, 43, 669855),\n",
       " 'year': 2025,\n",
       " 'month': 4,\n",
       " 'day': 26,\n",
       " 'hour': 2,\n",
       " 'minute': 8,\n",
       " 'created_at': datetime.datetime(2025, 4, 26, 2, 8, 43, 628633, tzinfo=<DstTzInfo 'Asia/Bangkok' LMT+6:42:00 STD>),\n",
       " 'requested_province': 'Pathum Thani',\n",
       " 'location': 'Pathum Thani',\n",
       " 'weather_main': 'Clouds',\n",
       " 'weather_description': 'few clouds',\n",
       " 'main.temp': 29.99}"
      ]
     },
     "execution_count": 15,
     "metadata": {},
     "output_type": "execute_result"
    }
   ],
   "source": [
    "get_weather_data()"
   ]
  },
  {
   "cell_type": "markdown",
   "metadata": {},
   "source": [
    "### FLOW"
   ]
  },
  {
   "cell_type": "code",
   "execution_count": 23,
   "metadata": {},
   "outputs": [
    {
     "data": {
      "text/html": [
       "<div>\n",
       "<style scoped>\n",
       "    .dataframe tbody tr th:only-of-type {\n",
       "        vertical-align: middle;\n",
       "    }\n",
       "\n",
       "    .dataframe tbody tr th {\n",
       "        vertical-align: top;\n",
       "    }\n",
       "\n",
       "    .dataframe thead th {\n",
       "        text-align: right;\n",
       "    }\n",
       "</style>\n",
       "<table border=\"1\" class=\"dataframe\">\n",
       "  <thead>\n",
       "    <tr style=\"text-align: right;\">\n",
       "      <th></th>\n",
       "      <th>timestamp</th>\n",
       "      <th>year</th>\n",
       "      <th>month</th>\n",
       "      <th>day</th>\n",
       "      <th>hour</th>\n",
       "      <th>minute</th>\n",
       "      <th>created_at</th>\n",
       "      <th>requested_province</th>\n",
       "      <th>location</th>\n",
       "      <th>weather_main</th>\n",
       "      <th>weather_description</th>\n",
       "      <th>main.temp</th>\n",
       "    </tr>\n",
       "  </thead>\n",
       "  <tbody>\n",
       "    <tr>\n",
       "      <th>0</th>\n",
       "      <td>2025-04-26 02:17:25.524864</td>\n",
       "      <td>2025</td>\n",
       "      <td>4</td>\n",
       "      <td>26</td>\n",
       "      <td>2</td>\n",
       "      <td>17</td>\n",
       "      <td>2025-04-26 02:35:25.524837+07:00</td>\n",
       "      <td>Don Sak</td>\n",
       "      <td>Don Sak</td>\n",
       "      <td>Clouds</td>\n",
       "      <td>overcast clouds</td>\n",
       "      <td>27.17</td>\n",
       "    </tr>\n",
       "    <tr>\n",
       "      <th>1</th>\n",
       "      <td>2025-04-26 02:17:25.641887</td>\n",
       "      <td>2025</td>\n",
       "      <td>4</td>\n",
       "      <td>26</td>\n",
       "      <td>2</td>\n",
       "      <td>17</td>\n",
       "      <td>2025-04-26 02:35:25.641859+07:00</td>\n",
       "      <td>Ban Thung That</td>\n",
       "      <td>Ban Thung That</td>\n",
       "      <td>Clear</td>\n",
       "      <td>clear sky</td>\n",
       "      <td>24.42</td>\n",
       "    </tr>\n",
       "  </tbody>\n",
       "</table>\n",
       "</div>"
      ],
      "text/plain": [
       "                   timestamp  year  month  day  hour  minute  \\\n",
       "0 2025-04-26 02:17:25.524864  2025      4   26     2      17   \n",
       "1 2025-04-26 02:17:25.641887  2025      4   26     2      17   \n",
       "\n",
       "                        created_at requested_province        location  \\\n",
       "0 2025-04-26 02:35:25.524837+07:00            Don Sak         Don Sak   \n",
       "1 2025-04-26 02:35:25.641859+07:00     Ban Thung That  Ban Thung That   \n",
       "\n",
       "  weather_main weather_description  main.temp  \n",
       "0       Clouds     overcast clouds      27.17  \n",
       "1        Clear           clear sky      24.42  "
      ]
     },
     "execution_count": 23,
     "metadata": {},
     "output_type": "execute_result"
    }
   ],
   "source": [
    "weatherdata_df = pd.DataFrame([get_weather_data(p) for p in list(provinces.keys())[:2]])\n",
    "weatherdata_df"
   ]
  },
  {
   "cell_type": "code",
   "execution_count": null,
   "metadata": {},
   "outputs": [],
   "source": []
  }
 ],
 "metadata": {
  "kernelspec": {
   "display_name": "base",
   "language": "python",
   "name": "python3"
  },
  "language_info": {
   "codemirror_mode": {
    "name": "ipython",
    "version": 3
   },
   "file_extension": ".py",
   "mimetype": "text/x-python",
   "name": "python",
   "nbconvert_exporter": "python",
   "pygments_lexer": "ipython3",
   "version": "3.9.12"
  }
 },
 "nbformat": 4,
 "nbformat_minor": 2
}
