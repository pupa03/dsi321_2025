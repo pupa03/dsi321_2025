{
 "cells": [
  {
   "cell_type": "markdown",
   "id": "71c82ce0-392a-4dae-bf6d-ac50084b4834",
   "metadata": {},
   "source": [
    "### Task"
   ]
  },
  {
   "cell_type": "code",
   "execution_count": 7,
   "id": "9776ad7e-2099-49b3-a4f8-c6baea6f43ee",
   "metadata": {},
   "outputs": [
    {
     "name": "stdout",
     "output_type": "stream",
     "text": [
      "None\n"
     ]
    }
   ],
   "source": [
    "# from dotenv import load_dotenv\n",
    "# import os\n",
    "\n",
    "# load_dotenv()\n",
    "# API_KEY = os.getenv(\"OPENWEATHER_API_KEY\")\n",
    "# API_KEY"
   ]
  },
  {
   "cell_type": "code",
   "execution_count": 1,
   "id": "4420c756-9533-4e93-9486-cabc314efba9",
   "metadata": {},
   "outputs": [],
   "source": [
    "#### TEST\n",
    "import requests\n",
    "import pandas as pd\n",
    "from datetime import datetime\n",
    "import time\n",
    "import pytz\n",
    "from datetime import timedelta\n",
    "\n",
    "import nest_asyncio\n",
    "import asyncio\n",
    "import aiohttp\n",
    "from prefect import flow, task # Prefect flow and task decorators\n",
    "from math import ceil\n",
    "\n",
    "from dotenv import load_dotenv\n",
    "import os\n",
    "\n",
    "nest_asyncio.apply()\n",
    "\n",
    "load_dotenv()\n",
    "API_KEY = os.getenv(\"OPENWEATHER_API_KEY\")\n",
    "ACCESS_KEY = os.getenv(\"LAKEFS_ACCESS_KEY\")\n",
    "SECRET_KEY = os.getenv(\"LAKEFS_SECRET_KEY\")\n",
    "lakefs_endpoint = os.getenv(\"LAKEFS_ENDPOINT\", \"http://lakefs-dev:8000\")\n",
    "\n",
    "@task\n",
    "async def fetch_pollution_data(df_sample, batch_size=100):  #sample\n",
    "    # API_KEY = \"13fd31c548dbeae77a5c0d773a99df79\"\n",
    "    # API_KEY = os.getenv(\"OPENWEATHER_API_KEY\")\n",
    "    # WEATHER_ENDPOINT = \"https://api.openweathermap.org/data/2.5/weather\"\n",
    "    POLLUTION_ENDPOINT = \"http://api.openweathermap.org/data/2.5/air_pollution\"\n",
    "    \n",
    "    async def fetch_row(session, row):\n",
    "        # await asyncio.sleep(1)  #พัก 1 วิแบบไม่บล็อก loop\n",
    "        lat = row['lat']\n",
    "        lon = row['lon']\n",
    "        province = row['provinceEN']\n",
    "        district = row['amphoeEN']\n",
    "        try:\n",
    "            params = {\n",
    "                \"lat\" : lat,\n",
    "                \"lon\" : lon,\n",
    "                \"appid\": API_KEY,\n",
    "                \"units\": \"metric\"\n",
    "            }\n",
    "            async with session.get(POLLUTION_ENDPOINT, params=params) as response:\n",
    "                # if response.status != 200:\n",
    "                #     return {\n",
    "                #         'province': province,\n",
    "                #         'amphoe': amphoe,\n",
    "                #         'lat': lat,\n",
    "                #         'lon': lon,\n",
    "                #         'error': f\"HTTP {response.status}\"\n",
    "                #     }\n",
    "                data = await response.json()\n",
    "                dt = datetime.utcnow()\n",
    "                thai_tz = pytz.timezone('Asia/Bangkok')\n",
    "                localtime = dt.astimezone(thai_tz)\n",
    "                components = data['list'][0]['components']\n",
    "                pollution_dict = {\n",
    "                    'timestamp': dt,\n",
    "                    'year': dt.year,\n",
    "                    'month': dt.month,\n",
    "                    'day': dt.day,\n",
    "                    'hour': dt.hour,\n",
    "                    'minute': dt.minute,\n",
    "                    'localtime': localtime,\n",
    "                    'province' : province,\n",
    "                    'district' : district,\n",
    "                    'lat' : data['coord']['lat'],\n",
    "                    'lon' : data['coord']['lon'],\n",
    "                    # 'location': data['name'],\n",
    "                    'main.aqi' : data['list'][0]['main']['aqi'],\n",
    "                    'components_co' : components['co'],\n",
    "                    'components_no' : components['no'],\n",
    "                    'components_no2' : components['no2'],\n",
    "                    'components_o3' : components['o3'],\n",
    "                    'components_so2' : components['so2'],\n",
    "                    'components_pm2_5' : components['pm2_5'],\n",
    "                    'components_pm10' : components['pm10'],\n",
    "                    'components_nh3' : components['nh3']\n",
    "                    }\n",
    "                return pollution_dict\n",
    "\n",
    "        # # Check Error\n",
    "        # except Exception as e:\n",
    "        #     return {\n",
    "        #         'province': row.get('province', 'unknown'),\n",
    "        #         'amphoe': row.get('amphoe', 'unknown'),\n",
    "        #         'lat': row.get('lat', None),\n",
    "        #         'lon': row.get('lon', None),\n",
    "        #         'error': str(e)\n",
    "        # }\n",
    "        except requests.exceptions.RequestException as e:\n",
    "            print(f\"Error fetching data: {e}\")\n",
    "            return None\n",
    "        except KeyError as e:\n",
    "            print(f\"Error processing data: Missing key {e}\")\n",
    "            return None\n",
    "        except Exception as e:\n",
    "            print(f\"Error: {e} at {province} - {district}\")\n",
    "            return None\n",
    "\n",
    "\n",
    "\n",
    "    pollution_results = []\n",
    "    total_batches = ceil(len(df_sample) / batch_size)  #sample\n",
    "    async with aiohttp.ClientSession() as session:\n",
    "        for i in range(total_batches):\n",
    "            batch = df_sample.iloc[i*batch_size:(i+1)*batch_size]\n",
    "            tasks = [fetch_row(session, row) for _, row in batch.iterrows()]\n",
    "            batch_results = await asyncio.gather(*tasks)\n",
    "            pollution_results.extend(batch_results)\n",
    "\n",
    "            print(f\"✅ เสร็จ batch {i+1}/{total_batches}\")\n",
    "            if i < total_batches - 1:\n",
    "                await asyncio.sleep(65)  # ✅ รอให้ผ่าน rate limit\n",
    "\n",
    "    return pollution_results\n",
    "\n",
    "\n",
    "def clean_data(df):\n",
    "    df = pd.DataFrame(df)\n",
    "    # if 'error' in df.columns:\n",
    "    #     # df = df[df['error'].isna()]  # กรอง row ที่มี error ออก\n",
    "    #     df = df.drop(columns=['error'], errors='ignore')  # ลบคอลัมน์ error\n",
    "    df['province'] = df['province'].astype(\"string\")\n",
    "    df['district'] = df['district'].astype(\"string\")\n",
    "\n",
    "    return df\n",
    "\n",
    "\n",
    "def save_to_lakefs(df):\n",
    "    # ACCESS_KEY = os.getenv(\"LAKEFS_ACCESS_KEY\")\n",
    "    # SECRET_KEY = os.getenv(\"LAKEFS_SECRET_KEY\")\n",
    "    # lakefs_endpoint = os.getenv(\"LAKEFS_ENDPOINT\", \"http://lakefs-dev:8000\")\n",
    "    # ACCESS_KEY = \"access_key\"\n",
    "    # SECRET_KEY = \"secret_key\"\n",
    "    # lakefs_endpoint = \"http://lakefs-dev:8000/\"\n",
    "\n",
    "    repo = \"pollution-data\"\n",
    "    branch = \"main\"\n",
    "    path = \"pollution.parquet\"\n",
    "    \n",
    "    lakefs_s3_path = f\"s3a://{repo}/{branch}/{path}\"\n",
    "\n",
    "    storage_options = {\n",
    "        \"key\": ACCESS_KEY,\n",
    "        \"secret\": SECRET_KEY,\n",
    "        \"client_kwargs\": {\"endpoint_url\": lakefs_endpoint}\n",
    "    }\n",
    "\n",
    "    df.to_parquet(\n",
    "        lakefs_s3_path,\n",
    "        storage_options=storage_options,\n",
    "        partition_cols=[\"year\", \"month\", \"day\", \"hour\"],\n",
    "    )\n",
    "\n"
   ]
  },
  {
   "cell_type": "markdown",
   "id": "0b888c73-e131-4a6d-9dc4-179ef795ff81",
   "metadata": {},
   "source": [
    "### FLOW"
   ]
  },
  {
   "cell_type": "code",
   "execution_count": 2,
   "id": "8f1ca1ec-84f3-4fe5-94d8-d44e4a3742f0",
   "metadata": {},
   "outputs": [],
   "source": [
    "import time\n",
    "import os\n",
    "import pandas as pd\n",
    "\n",
    "@flow(name=\"pollution-flow\", log_prints=True)\n",
    "async def pollution_flow():\n",
    "    start_time = time.perf_counter()  # ⏱ เริ่มจับเวลา\n",
    "\n",
    "    BASE_DIR = os.path.abspath(os.path.join(os.getcwd(), \"..\"))  #/home/jovyan/work\n",
    "    coord_path = os.path.join(BASE_DIR, \"save\", \"amphoe_coord.csv\")\n",
    "    coord_df = pd.read_csv(coord_path)\n",
    "    df_sample = coord_df.sample(10)\n",
    "    pollution_results = await fetch_pollution_data(df_sample)\n",
    "    # pollution_data = pd.DataFrame(pollution_results)\n",
    "\n",
    "    # #Check Error\n",
    "    # df_raw = pd.DataFrame(pollution_results)\n",
    "    # if 'error' in df_raw.columns:\n",
    "    #     error_df = df_raw[df_raw['error'].notna()]\n",
    "    #     print(\"\\n❗ Error Rows:\")\n",
    "    #     print(error_df[['province', 'amphoe', 'error']].head())\n",
    "    pollution_data = clean_data(pollution_results)\n",
    "    \n",
    "    \n",
    "    end_time = time.perf_counter()  # ⏱ จับเวลาอีกครั้ง\n",
    "    print(f\"\\n✅ ดึงข้อมูลเสร็จทั้งหมด ใช้เวลา {end_time - start_time:.2f} วินาที\")\n",
    "    save_to_lakefs(pollution_data) \n",
    "    print(\"save to Lakefs Success\")\n",
    "    print(pollution_data.info())\n",
    "    print(pollution_data.head())\n",
    "    # return pollution_data\n",
    "    "
   ]
  },
  {
   "cell_type": "code",
   "execution_count": 9,
   "id": "e5dcb80d-bb7d-4a39-a700-6f1ceb478059",
   "metadata": {},
   "outputs": [
    {
     "data": {
      "text/html": [
       "<div>\n",
       "<style scoped>\n",
       "    .dataframe tbody tr th:only-of-type {\n",
       "        vertical-align: middle;\n",
       "    }\n",
       "\n",
       "    .dataframe tbody tr th {\n",
       "        vertical-align: top;\n",
       "    }\n",
       "\n",
       "    .dataframe thead th {\n",
       "        text-align: right;\n",
       "    }\n",
       "</style>\n",
       "<table border=\"1\" class=\"dataframe\">\n",
       "  <thead>\n",
       "    <tr style=\"text-align: right;\">\n",
       "      <th></th>\n",
       "      <th>province_id</th>\n",
       "      <th>province</th>\n",
       "      <th>provinceEN</th>\n",
       "      <th>amphoe_id</th>\n",
       "      <th>amphoe</th>\n",
       "      <th>amphoeEN</th>\n",
       "      <th>lat</th>\n",
       "      <th>lon</th>\n",
       "    </tr>\n",
       "  </thead>\n",
       "  <tbody>\n",
       "    <tr>\n",
       "      <th>77</th>\n",
       "      <td>46</td>\n",
       "      <td>กาฬสินธุ์</td>\n",
       "      <td>Kalasin</td>\n",
       "      <td>4614</td>\n",
       "      <td>ห้วยผึ้ง</td>\n",
       "      <td>Huai Phueng</td>\n",
       "      <td>16.652100</td>\n",
       "      <td>103.891200</td>\n",
       "    </tr>\n",
       "    <tr>\n",
       "      <th>262</th>\n",
       "      <td>30</td>\n",
       "      <td>นครราชสีมา</td>\n",
       "      <td>Nakhon Ratchasima</td>\n",
       "      <td>3004</td>\n",
       "      <td>คง</td>\n",
       "      <td>Khong</td>\n",
       "      <td>15.422308</td>\n",
       "      <td>102.419010</td>\n",
       "    </tr>\n",
       "    <tr>\n",
       "      <th>626</th>\n",
       "      <td>90</td>\n",
       "      <td>สงขลา</td>\n",
       "      <td>Songkhla</td>\n",
       "      <td>9005</td>\n",
       "      <td>เทพา</td>\n",
       "      <td>Thepha</td>\n",
       "      <td>6.797260</td>\n",
       "      <td>100.910250</td>\n",
       "    </tr>\n",
       "    <tr>\n",
       "      <th>183</th>\n",
       "      <td>86</td>\n",
       "      <td>ชุมพร</td>\n",
       "      <td>Chumphon</td>\n",
       "      <td>8606</td>\n",
       "      <td>พะโต๊ะ</td>\n",
       "      <td>Phato</td>\n",
       "      <td>9.791667</td>\n",
       "      <td>98.776667</td>\n",
       "    </tr>\n",
       "    <tr>\n",
       "      <th>456</th>\n",
       "      <td>66</td>\n",
       "      <td>พิจิตร</td>\n",
       "      <td>Phichit</td>\n",
       "      <td>6605</td>\n",
       "      <td>บางมูลนาก</td>\n",
       "      <td>Bang Mun Nak</td>\n",
       "      <td>16.021400</td>\n",
       "      <td>100.417200</td>\n",
       "    </tr>\n",
       "    <tr>\n",
       "      <th>57</th>\n",
       "      <td>10</td>\n",
       "      <td>กรุงเทพมหานคร</td>\n",
       "      <td>Bangkok</td>\n",
       "      <td>1012</td>\n",
       "      <td>ยานนาวา</td>\n",
       "      <td>Yan Nawa</td>\n",
       "      <td>13.694300</td>\n",
       "      <td>100.539400</td>\n",
       "    </tr>\n",
       "    <tr>\n",
       "      <th>518</th>\n",
       "      <td>21</td>\n",
       "      <td>ระยอง</td>\n",
       "      <td>Rayong</td>\n",
       "      <td>2108</td>\n",
       "      <td>นิคมพัฒนา</td>\n",
       "      <td>Nikhom Phatthana</td>\n",
       "      <td>14.909170</td>\n",
       "      <td>101.026730</td>\n",
       "    </tr>\n",
       "    <tr>\n",
       "      <th>209</th>\n",
       "      <td>63</td>\n",
       "      <td>ตาก</td>\n",
       "      <td>Tak</td>\n",
       "      <td>6303</td>\n",
       "      <td>สามเงา</td>\n",
       "      <td>Sam Ngao</td>\n",
       "      <td>17.243310</td>\n",
       "      <td>99.022560</td>\n",
       "    </tr>\n",
       "    <tr>\n",
       "      <th>329</th>\n",
       "      <td>55</td>\n",
       "      <td>น่าน</td>\n",
       "      <td>Nan</td>\n",
       "      <td>5505</td>\n",
       "      <td>ปัว</td>\n",
       "      <td>Pua</td>\n",
       "      <td>19.175000</td>\n",
       "      <td>100.916000</td>\n",
       "    </tr>\n",
       "    <tr>\n",
       "      <th>59</th>\n",
       "      <td>71</td>\n",
       "      <td>กาญจนบุรี</td>\n",
       "      <td>Kanchanaburi</td>\n",
       "      <td>7101</td>\n",
       "      <td>เมืองกาญจนบุรี</td>\n",
       "      <td>Mueang Kanchanaburi</td>\n",
       "      <td>14.069870</td>\n",
       "      <td>99.327690</td>\n",
       "    </tr>\n",
       "  </tbody>\n",
       "</table>\n",
       "</div>"
      ],
      "text/plain": [
       "     province_id       province         provinceEN  amphoe_id          amphoe  \\\n",
       "77            46      กาฬสินธุ์            Kalasin       4614        ห้วยผึ้ง   \n",
       "262           30     นครราชสีมา  Nakhon Ratchasima       3004              คง   \n",
       "626           90          สงขลา           Songkhla       9005            เทพา   \n",
       "183           86          ชุมพร           Chumphon       8606          พะโต๊ะ   \n",
       "456           66         พิจิตร            Phichit       6605       บางมูลนาก   \n",
       "57            10  กรุงเทพมหานคร            Bangkok       1012         ยานนาวา   \n",
       "518           21          ระยอง             Rayong       2108       นิคมพัฒนา   \n",
       "209           63            ตาก                Tak       6303          สามเงา   \n",
       "329           55           น่าน                Nan       5505             ปัว   \n",
       "59            71      กาญจนบุรี       Kanchanaburi       7101  เมืองกาญจนบุรี   \n",
       "\n",
       "                amphoeEN        lat         lon  \n",
       "77           Huai Phueng  16.652100  103.891200  \n",
       "262                Khong  15.422308  102.419010  \n",
       "626               Thepha   6.797260  100.910250  \n",
       "183                Phato   9.791667   98.776667  \n",
       "456         Bang Mun Nak  16.021400  100.417200  \n",
       "57              Yan Nawa  13.694300  100.539400  \n",
       "518     Nikhom Phatthana  14.909170  101.026730  \n",
       "209             Sam Ngao  17.243310   99.022560  \n",
       "329                  Pua  19.175000  100.916000  \n",
       "59   Mueang Kanchanaburi  14.069870   99.327690  "
      ]
     },
     "execution_count": 9,
     "metadata": {},
     "output_type": "execute_result"
    }
   ],
   "source": [
    "# #Check path + Sample\n",
    "# BASE_DIR = os.path.abspath(os.path.join(os.getcwd(), \"..\"))  #/home/jovyan/work\n",
    "# coord_path = os.path.join(BASE_DIR, \"save\", \"amphoe_coord.csv\")\n",
    "# coord_df = pd.read_csv(coord_path)\n",
    "# df_sample = coord_df.sample(10)\n",
    "# df_sample"
   ]
  },
  {
   "cell_type": "markdown",
   "id": "3e59b1ae-068c-4b94-b63f-88ae8f8eafd1",
   "metadata": {},
   "source": [
    "### TEST"
   ]
  },
  {
   "cell_type": "code",
   "execution_count": 3,
   "id": "5394fee3-d882-4108-bc94-3d285e991b38",
   "metadata": {
    "scrolled": true
   },
   "outputs": [
    {
     "data": {
      "text/html": [
       "<pre style=\"white-space:pre;overflow-x:auto;line-height:normal;font-family:Menlo,'DejaVu Sans Mono',consolas,'Courier New',monospace\">11:30:06.548 | <span style=\"color: #008080; text-decoration-color: #008080\">INFO</span>    | prefect.engine - Created flow run<span style=\"color: #800080; text-decoration-color: #800080\"> 'capable-galago'</span> for flow<span style=\"color: #800080; text-decoration-color: #800080; font-weight: bold\"> 'pollution-flow'</span>\n",
       "</pre>\n"
      ],
      "text/plain": [
       "11:30:06.548 | \u001b[36mINFO\u001b[0m    | prefect.engine - Created flow run\u001b[35m 'capable-galago'\u001b[0m for flow\u001b[1;35m 'pollution-flow'\u001b[0m\n"
      ]
     },
     "metadata": {},
     "output_type": "display_data"
    },
    {
     "data": {
      "text/html": [
       "<pre style=\"white-space:pre;overflow-x:auto;line-height:normal;font-family:Menlo,'DejaVu Sans Mono',consolas,'Courier New',monospace\">11:30:06.557 | <span style=\"color: #008080; text-decoration-color: #008080\">INFO</span>    | prefect.engine - View at <span style=\"color: #0000ff; text-decoration-color: #0000ff\">http://prefect-server:4200/runs/flow-run/ac2547bc-19ae-49ff-be3e-f101a87cdc6b</span>\n",
       "</pre>\n"
      ],
      "text/plain": [
       "11:30:06.557 | \u001b[36mINFO\u001b[0m    | prefect.engine - View at \u001b[94mhttp://prefect-server:4200/runs/flow-run/ac2547bc-19ae-49ff-be3e-f101a87cdc6b\u001b[0m\n"
      ]
     },
     "metadata": {},
     "output_type": "display_data"
    },
    {
     "data": {
      "text/html": [
       "<pre style=\"white-space:pre;overflow-x:auto;line-height:normal;font-family:Menlo,'DejaVu Sans Mono',consolas,'Courier New',monospace\">11:30:06.847 | <span style=\"color: #008080; text-decoration-color: #008080\">INFO</span>    | Task run 'fetch_pollution_data-0' - Created task run 'fetch_pollution_data-0' for task 'fetch_pollution_data'\n",
       "</pre>\n"
      ],
      "text/plain": [
       "11:30:06.847 | \u001b[36mINFO\u001b[0m    | Task run 'fetch_pollution_data-0' - Created task run 'fetch_pollution_data-0' for task 'fetch_pollution_data'\n"
      ]
     },
     "metadata": {},
     "output_type": "display_data"
    },
    {
     "data": {
      "text/html": [
       "<pre style=\"white-space:pre;overflow-x:auto;line-height:normal;font-family:Menlo,'DejaVu Sans Mono',consolas,'Courier New',monospace\">11:30:07.254 | <span style=\"color: #008080; text-decoration-color: #008080\">INFO</span>    | Task run 'fetch_pollution_data-0' - ✅ เสร็จ batch 1/1\n",
       "</pre>\n"
      ],
      "text/plain": [
       "11:30:07.254 | \u001b[36mINFO\u001b[0m    | Task run 'fetch_pollution_data-0' - ✅ เสร็จ batch 1/1\n"
      ]
     },
     "metadata": {},
     "output_type": "display_data"
    },
    {
     "data": {
      "text/html": [
       "<pre style=\"white-space:pre;overflow-x:auto;line-height:normal;font-family:Menlo,'DejaVu Sans Mono',consolas,'Courier New',monospace\">11:30:07.281 | <span style=\"color: #008080; text-decoration-color: #008080\">INFO</span>    | Task run 'fetch_pollution_data-0' - Finished in state <span style=\"color: #008000; text-decoration-color: #008000\">Completed</span>()\n",
       "</pre>\n"
      ],
      "text/plain": [
       "11:30:07.281 | \u001b[36mINFO\u001b[0m    | Task run 'fetch_pollution_data-0' - Finished in state \u001b[32mCompleted\u001b[0m()\n"
      ]
     },
     "metadata": {},
     "output_type": "display_data"
    },
    {
     "data": {
      "text/html": [
       "<pre style=\"white-space:pre;overflow-x:auto;line-height:normal;font-family:Menlo,'DejaVu Sans Mono',consolas,'Courier New',monospace\">11:30:07.286 | <span style=\"color: #008080; text-decoration-color: #008080\">INFO</span>    | Flow run<span style=\"color: #800080; text-decoration-color: #800080\"> 'capable-galago'</span> - \n",
       "✅ ดึงข้อมูลเสร็จทั้งหมด ใช้เวลา 0.64 วินาที\n",
       "</pre>\n"
      ],
      "text/plain": [
       "11:30:07.286 | \u001b[36mINFO\u001b[0m    | Flow run\u001b[35m 'capable-galago'\u001b[0m - \n",
       "✅ ดึงข้อมูลเสร็จทั้งหมด ใช้เวลา 0.64 วินาที\n"
      ]
     },
     "metadata": {},
     "output_type": "display_data"
    },
    {
     "data": {
      "text/html": [
       "<pre style=\"white-space:pre;overflow-x:auto;line-height:normal;font-family:Menlo,'DejaVu Sans Mono',consolas,'Courier New',monospace\">11:30:07.769 | <span style=\"color: #008080; text-decoration-color: #008080\">INFO</span>    | Flow run<span style=\"color: #800080; text-decoration-color: #800080\"> 'capable-galago'</span> - save to Lakefs Success\n",
       "</pre>\n"
      ],
      "text/plain": [
       "11:30:07.769 | \u001b[36mINFO\u001b[0m    | Flow run\u001b[35m 'capable-galago'\u001b[0m - save to Lakefs Success\n"
      ]
     },
     "metadata": {},
     "output_type": "display_data"
    },
    {
     "name": "stdout",
     "output_type": "stream",
     "text": [
      "<class 'pandas.core.frame.DataFrame'>\n",
      "RangeIndex: 10 entries, 0 to 9\n",
      "Data columns (total 20 columns):\n",
      " #   Column            Non-Null Count  Dtype                       \n",
      "---  ------            --------------  -----                       \n",
      " 0   timestamp         10 non-null     datetime64[ns]              \n",
      " 1   year              10 non-null     int64                       \n",
      " 2   month             10 non-null     int64                       \n",
      " 3   day               10 non-null     int64                       \n",
      " 4   hour              10 non-null     int64                       \n",
      " 5   minute            10 non-null     int64                       \n",
      " 6   localtime         10 non-null     datetime64[ns, Asia/Bangkok]\n",
      " 7   province          10 non-null     string                      \n",
      " 8   district          10 non-null     string                      \n",
      " 9   lat               10 non-null     float64                     \n",
      " 10  lon               10 non-null     float64                     \n",
      " 11  main.aqi          10 non-null     int64                       \n",
      " 12  components_co     10 non-null     float64                     \n",
      " 13  components_no     10 non-null     float64                     \n",
      " 14  components_no2    10 non-null     float64                     \n",
      " 15  components_o3     10 non-null     float64                     \n",
      " 16  components_so2    10 non-null     float64                     \n",
      " 17  components_pm2_5  10 non-null     float64                     \n",
      " 18  components_pm10   10 non-null     float64                     \n",
      " 19  components_nh3    10 non-null     float64                     \n",
      "dtypes: datetime64[ns, Asia/Bangkok](1), datetime64[ns](1), float64(10), int64(6), string(2)\n",
      "memory usage: 1.7 KB\n"
     ]
    },
    {
     "data": {
      "text/html": [
       "<pre style=\"white-space:pre;overflow-x:auto;line-height:normal;font-family:Menlo,'DejaVu Sans Mono',consolas,'Courier New',monospace\">11:30:07.775 | <span style=\"color: #008080; text-decoration-color: #008080\">INFO</span>    | Flow run<span style=\"color: #800080; text-decoration-color: #800080\"> 'capable-galago'</span> - None\n",
       "</pre>\n"
      ],
      "text/plain": [
       "11:30:07.775 | \u001b[36mINFO\u001b[0m    | Flow run\u001b[35m 'capable-galago'\u001b[0m - None\n"
      ]
     },
     "metadata": {},
     "output_type": "display_data"
    },
    {
     "data": {
      "text/html": [
       "<pre style=\"white-space:pre;overflow-x:auto;line-height:normal;font-family:Menlo,'DejaVu Sans Mono',consolas,'Courier New',monospace\">11:30:07.782 | <span style=\"color: #008080; text-decoration-color: #008080\">INFO</span>    | Flow run<span style=\"color: #800080; text-decoration-color: #800080\"> 'capable-galago'</span> -                    timestamp  year  month  day  hour  minute  \\\n",
       "0 2025-05-11 11:30:07.254435  2025      5   11    11      30   \n",
       "1 2025-05-11 11:30:07.253874  2025      5   11    11      30   \n",
       "2 2025-05-11 11:30:07.254321  2025      5   11    11      30   \n",
       "3 2025-05-11 11:30:07.253944  2025      5   11    11      30   \n",
       "4 2025-05-11 11:30:07.253634  2025      5   11    11      30   \n",
       "\n",
       "                         localtime      province        district      lat  \\\n",
       "0 2025-05-11 18:30:07.254435+07:00      Yasothon        Kut Chum  16.0317   \n",
       "1 2025-05-11 18:30:07.253874+07:00  Kanchanaburi  Thong Pha Phum  14.8328   \n",
       "2 2025-05-11 18:30:07.254321+07:00        Roi Et         Nong Hi  15.5798   \n",
       "3 2025-05-11 18:30:07.253944+07:00    Chiang Mai     Wiang Haeng  19.6004   \n",
       "4 2025-05-11 18:30:07.253634+07:00           Tak   Tha Song Yang  17.2267   \n",
       "\n",
       "        lon  main.aqi  components_co  components_no  components_no2  \\\n",
       "0  104.3400         2         587.27           0.02           11.59   \n",
       "1   98.6923         1         157.87           0.00            0.23   \n",
       "2  104.0113         2         449.83           0.02           10.88   \n",
       "3   98.6161         1         290.52           0.01            2.98   \n",
       "4   98.2250         1         234.70           0.00            1.30   \n",
       "\n",
       "   components_o3  components_so2  components_pm2_5  components_pm10  \\\n",
       "0          23.12            1.41             23.72            24.84   \n",
       "1          37.81            0.05              1.33             1.80   \n",
       "2          22.59            1.56             16.46            17.35   \n",
       "3          43.55            1.13              7.35             7.87   \n",
       "4          54.29            0.31              6.40             7.11   \n",
       "\n",
       "   components_nh3  \n",
       "0            5.42  \n",
       "1            0.40  \n",
       "2           10.32  \n",
       "3            1.25  \n",
       "4            1.21\n",
       "</pre>\n"
      ],
      "text/plain": [
       "11:30:07.782 | \u001b[36mINFO\u001b[0m    | Flow run\u001b[35m 'capable-galago'\u001b[0m -                    timestamp  year  month  day  hour  minute  \\\n",
       "0 2025-05-11 11:30:07.254435  2025      5   11    11      30   \n",
       "1 2025-05-11 11:30:07.253874  2025      5   11    11      30   \n",
       "2 2025-05-11 11:30:07.254321  2025      5   11    11      30   \n",
       "3 2025-05-11 11:30:07.253944  2025      5   11    11      30   \n",
       "4 2025-05-11 11:30:07.253634  2025      5   11    11      30   \n",
       "\n",
       "                         localtime      province        district      lat  \\\n",
       "0 2025-05-11 18:30:07.254435+07:00      Yasothon        Kut Chum  16.0317   \n",
       "1 2025-05-11 18:30:07.253874+07:00  Kanchanaburi  Thong Pha Phum  14.8328   \n",
       "2 2025-05-11 18:30:07.254321+07:00        Roi Et         Nong Hi  15.5798   \n",
       "3 2025-05-11 18:30:07.253944+07:00    Chiang Mai     Wiang Haeng  19.6004   \n",
       "4 2025-05-11 18:30:07.253634+07:00           Tak   Tha Song Yang  17.2267   \n",
       "\n",
       "        lon  main.aqi  components_co  components_no  components_no2  \\\n",
       "0  104.3400         2         587.27           0.02           11.59   \n",
       "1   98.6923         1         157.87           0.00            0.23   \n",
       "2  104.0113         2         449.83           0.02           10.88   \n",
       "3   98.6161         1         290.52           0.01            2.98   \n",
       "4   98.2250         1         234.70           0.00            1.30   \n",
       "\n",
       "   components_o3  components_so2  components_pm2_5  components_pm10  \\\n",
       "0          23.12            1.41             23.72            24.84   \n",
       "1          37.81            0.05              1.33             1.80   \n",
       "2          22.59            1.56             16.46            17.35   \n",
       "3          43.55            1.13              7.35             7.87   \n",
       "4          54.29            0.31              6.40             7.11   \n",
       "\n",
       "   components_nh3  \n",
       "0            5.42  \n",
       "1            0.40  \n",
       "2           10.32  \n",
       "3            1.25  \n",
       "4            1.21\n"
      ]
     },
     "metadata": {},
     "output_type": "display_data"
    },
    {
     "data": {
      "text/html": [
       "<pre style=\"white-space:pre;overflow-x:auto;line-height:normal;font-family:Menlo,'DejaVu Sans Mono',consolas,'Courier New',monospace\">11:30:07.813 | <span style=\"color: #008080; text-decoration-color: #008080\">INFO</span>    | Flow run<span style=\"color: #800080; text-decoration-color: #800080\"> 'capable-galago'</span> - Finished in state <span style=\"color: #008000; text-decoration-color: #008000\">Completed</span>()\n",
       "</pre>\n"
      ],
      "text/plain": [
       "11:30:07.813 | \u001b[36mINFO\u001b[0m    | Flow run\u001b[35m 'capable-galago'\u001b[0m - Finished in state \u001b[32mCompleted\u001b[0m()\n"
      ]
     },
     "metadata": {},
     "output_type": "display_data"
    }
   ],
   "source": [
    "# test-run pollution flow\n",
    "import nest_asyncio\n",
    "nest_asyncio.apply()\n",
    "\n",
    "await pollution_flow()\n"
   ]
  },
  {
   "cell_type": "code",
   "execution_count": null,
   "id": "092a2077-7ba2-4591-82c2-f27598f1bbd5",
   "metadata": {},
   "outputs": [],
   "source": [
    "def clean_data(results):\n",
    "    # pollution_result = pd.DataFrame(results)\n",
    "    pollution_result = pollution_result[pollution_result['error'].isna()]  # กรอง error ออก\n",
    "    return pollution_result.drop(columns=['error'], errors='ignore')\n",
    "\n",
    "# แยก clean กับ error ออก\n",
    "clean_results = [r for r in results if 'error' not in r]\n",
    "error_results = [r for r in results if 'error' in r]\n",
    "\n",
    "# สร้าง DataFrame\n",
    "clean_df = pd.DataFrame(clean_results)\n",
    "error_df = pd.DataFrame(error_results)\n",
    "\n",
    "# Save ไฟล์ clean ขึ้น LakeFS (หรือ local เตรียมอัป)\n",
    "clean_df.to_parquet(\"pollution_data.parquet\", index=False)\n",
    "\n",
    "# เก็บ error ไว้ดูภายหลัง (optional)\n",
    "if not error_df.empty:\n",
    "    error_df.to_csv(\"pollution_errors.csv\", index=False)\n",
    "\n"
   ]
  },
  {
   "cell_type": "markdown",
   "id": "904b585f-051b-4441-a7df-ef75622353af",
   "metadata": {},
   "source": [
    "### LakeFS"
   ]
  },
  {
   "cell_type": "code",
   "execution_count": null,
   "id": "3e2ca67b-f080-49ec-b733-ceca7b4058e6",
   "metadata": {},
   "outputs": [],
   "source": [
    " # lakeFS credentials from your docker-compose.yml\n",
    "ACCESS_KEY = \"access_key\"\n",
    "SECRET_KEY = \"secret_key\"\n",
    "    \n",
    "# lakeFS endpoint (running locally)\n",
    "lakefs_endpoint = \"http://lakefs-dev:8000/\"\n",
    "    \n",
    "    # lakeFS repository, branch, and file path\n",
    "repo = \"pollution-data\"\n",
    "branch = \"main\"\n",
    "path = \"pollution.parquet\"\n",
    "    \n",
    "    # Construct the full lakeFS S3-compatible path\n",
    "lakefs_s3_path = f\"s3a://{repo}/{branch}/{path}\"\n",
    "    \n",
    "    # Configure storage_options for lakeFS (S3-compatible)\n",
    "storage_options = {\n",
    "    \"key\": ACCESS_KEY,\n",
    "    \"secret\": SECRET_KEY,\n",
    "    \"client_kwargs\": {\n",
    "        \"endpoint_url\": lakefs_endpoint\n",
    "    }\n",
    "    }\n",
    "pollution_df.to_parquet(\n",
    "    lakefs_s3_path,\n",
    "    storage_options=storage_options,\n",
    "    partition_cols=['year','month','day','hour'],\n",
    "        \n",
    ")"
   ]
  },
  {
   "cell_type": "code",
   "execution_count": null,
   "id": "db6d2606-66ea-4c7b-b546-4d8f826df8b9",
   "metadata": {},
   "outputs": [],
   "source": []
  },
  {
   "cell_type": "code",
   "execution_count": null,
   "id": "eef08406-45c3-4058-a4a1-9b4591f88417",
   "metadata": {},
   "outputs": [],
   "source": []
  },
  {
   "cell_type": "code",
   "execution_count": null,
   "id": "dff3f6f8-9fb4-4462-acc9-03eed52787c7",
   "metadata": {},
   "outputs": [],
   "source": [
    "from prefect import flow, task\n",
    "\n",
    "@task\n",
    "async def fetch_pollution_data(...):\n",
    "    ...\n",
    "\n",
    "def clean_data(results):\n",
    "    df = pd.DataFrame(results)\n",
    "    df = df[df['error'].isna()]  # กรอง error ออก\n",
    "    return df.drop(columns=['error'], errors='ignore')\n",
    "\n",
    "def save_to_lakefs(df, path):\n",
    "    df.to_parquet(path, index=False)\n",
    "\n",
    "@flow\n",
    "async def pollution_pipeline():\n",
    "    raw_results = await fetch_pollution_data(...)\n",
    "    clean_df = clean_data(raw_results)\n",
    "    save_to_lakefs(clean_df, \"s3://lakefs/bucket/pollution.parquet\")\n"
   ]
  },
  {
   "cell_type": "code",
   "execution_count": null,
   "id": "b85bdc65-863d-43dd-82be-20821032c158",
   "metadata": {},
   "outputs": [],
   "source": []
  },
  {
   "cell_type": "code",
   "execution_count": null,
   "id": "aafdd5c8-7704-4f45-912d-614206baa52e",
   "metadata": {},
   "outputs": [],
   "source": []
  }
 ],
 "metadata": {
  "kernelspec": {
   "display_name": "Python 3 (ipykernel)",
   "language": "python",
   "name": "python3"
  },
  "language_info": {
   "codemirror_mode": {
    "name": "ipython",
    "version": 3
   },
   "file_extension": ".py",
   "mimetype": "text/x-python",
   "name": "python",
   "nbconvert_exporter": "python",
   "pygments_lexer": "ipython3",
   "version": "3.11.9"
  }
 },
 "nbformat": 4,
 "nbformat_minor": 5
}
